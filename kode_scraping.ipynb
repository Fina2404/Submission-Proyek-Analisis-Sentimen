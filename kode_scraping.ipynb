{
  "nbformat": 4,
  "nbformat_minor": 0,
  "metadata": {
    "colab": {
      "provenance": [],
      "gpuType": "T4"
    },
    "kernelspec": {
      "name": "python3",
      "display_name": "Python 3"
    },
    "language_info": {
      "name": "python"
    },
    "accelerator": "GPU"
  },
  "cells": [
    {
      "cell_type": "code",
      "source": [
        "!pip install google-play-scraper"
      ],
      "metadata": {
        "colab": {
          "base_uri": "https://localhost:8080/"
        },
        "id": "PiqHNc7-xzkE",
        "outputId": "e6e3546c-dfc9-43d8-9695-6b345631a6b7"
      },
      "execution_count": null,
      "outputs": [
        {
          "output_type": "stream",
          "name": "stdout",
          "text": [
            "Collecting google-play-scraper\n",
            "  Downloading google_play_scraper-1.2.7-py3-none-any.whl.metadata (50 kB)\n",
            "\u001b[?25l     \u001b[90m━━━━━━━━━━━━━━━━━━━━━━━━━━━━━━━━━━━━━━━━\u001b[0m \u001b[32m0.0/50.2 kB\u001b[0m \u001b[31m?\u001b[0m eta \u001b[36m-:--:--\u001b[0m\r\u001b[2K     \u001b[90m━━━━━━━━━━━━━━━━━━━━━━━━━━━━━━━━━━━━━━━━\u001b[0m \u001b[32m50.2/50.2 kB\u001b[0m \u001b[31m5.0 MB/s\u001b[0m eta \u001b[36m0:00:00\u001b[0m\n",
            "\u001b[?25hDownloading google_play_scraper-1.2.7-py3-none-any.whl (28 kB)\n",
            "Installing collected packages: google-play-scraper\n",
            "Successfully installed google-play-scraper-1.2.7\n"
          ]
        }
      ]
    },
    {
      "cell_type": "code",
      "execution_count": null,
      "metadata": {
        "id": "x5KtAS7kxW0q"
      },
      "outputs": [],
      "source": [
        "# Mengimpor pustaka yang diperlukan untuk scraping ulasan dari Google Play Store\n",
        "from google_play_scraper import reviews_all, Sort\n",
        "import pandas as pd  # Pustaka untuk mengelola data dalam format DataFrame"
      ]
    },
    {
      "cell_type": "code",
      "source": [
        "# Menentukan ID aplikasi yang akan diambil ulasannya\n",
        "app_id = \"com.openai.chatgpt\"  # ID aplikasi ChatGPT di Google Play Store\n",
        "\n",
        "# Mengambil semua ulasan aplikasi ChatGPT dari Google Play Store\n",
        "reviews = reviews_all(\n",
        "    app_id,         # ID aplikasi yang akan di-scrape\n",
        "    lang=\"id\",      # Hanya mengambil ulasan dalam bahasa Indonesia\n",
        "    country=\"id\",   # Hanya mengambil ulasan dari pengguna di Indonesia\n",
        "    sort=Sort.NEWEST,  # Mengurutkan ulasan berdasarkan yang terbaru\n",
        ")\n",
        "\n",
        "# Mengonversi hasil scraping menjadi DataFrame untuk memudahkan analisis\n",
        "df = pd.DataFrame(reviews)"
      ],
      "metadata": {
        "id": "L314S39zx3b9"
      },
      "execution_count": null,
      "outputs": []
    },
    {
      "cell_type": "code",
      "source": [
        "# Menyimpan hasil ulasan ke dalam file CSV agar bisa diakses dan dianalisis lebih lanjut\n",
        "df.to_csv(\"ulasan_chatgpt.csv\", index=False, encoding=\"utf-8\")\n",
        "\n",
        "# Menampilkan jumlah ulasan yang berhasil diambil\n",
        "print(f\"Jumlah ulasan yang diambil: {len(df)}\")\n",
        "print(\"Data berhasil disimpan dalam 'ulasan_chatgpt.csv'\")"
      ],
      "metadata": {
        "id": "G8aelrt2yHxl",
        "outputId": "877a3bd9-028a-4fb8-d2a6-3e096f6acb7c",
        "colab": {
          "base_uri": "https://localhost:8080/"
        }
      },
      "execution_count": null,
      "outputs": [
        {
          "output_type": "stream",
          "name": "stdout",
          "text": [
            "Jumlah ulasan yang diambil: 51087\n",
            "Data berhasil disimpan dalam 'ulasan_chatgpt.csv'\n"
          ]
        }
      ]
    }
  ]
}